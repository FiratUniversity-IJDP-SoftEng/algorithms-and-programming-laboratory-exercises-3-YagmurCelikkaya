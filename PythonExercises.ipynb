
{
 "cells": [
  {
   "cell_type": "markdown",
   "metadata": {},
   "source": [
    "# Algorithms and Programming\n",
    "# Exercise Notebook (Intermediate Level)\n",
    "\n",
    "### Name:  Yağmur Çelikkaya\n",
    "### Student ID: 230543011\n",
    "### Date: 5.04.2025\n",
    "\n"
   ]
  },
  {
   "cell_type": "markdown",
   "metadata": {},
   "source": [
    "\n",
    "# Question 1\n",
    "### Write a Python function `is_prime` that determines if the given integer is a prime number.\n",
    "\n",
    "### Test your function\n",
    "```python\n",
    "print(is_prime(11))  # Expected output: True\n",
    "print(is_prime(15))  # Expected output: False\n",
    "```\n",
    "\n"
   ]
  },
  {
   "cell_type": "code",
   "execution_count": null,
   "metadata": {},
   "outputs": [],
   "source": [
    "# Solution\n",
    "def is_prime(num):\n",
    "    if num <=1:\n",
    "        print(\"false\")\n",
    "    else:\n",
    "        count = 0\n",
    "        for i in range(num):\n",
    "            remiender = num % (i+1)\n",
    "            if remiender == 0:\n",
    "                count += 1\n",
    "        if count > 2:\n",
    "            print(\"false\")\n",
    "        else:\n",
    "            print(\"true\")\n",
    "\n",
    "user_input= (int)(input(\"Please enter a positive number: \"))\n",
    "is_prime(user_input)\n"
   ]
  },
  {
   "cell_type": "markdown",
   "metadata": {},
   "source": [
    "# Question 2\n",
    "### Write a Python function `gcd` that calculates the greatest common divisor of two integers using the Euclidean algorithm.\n",
    "\n",
    "### Test your function\n",
    "```python\n",
    "print(gcd(48, 18))  # Expected output: 6\n",
    "print(gcd(100, 25))  # Expected output: 25\n",
    "```"
   ]
  },
  {
   "cell_type": "code",
   "execution_count": null,
   "metadata": {},
   "outputs": [],
   "source": [
    "# Solution \n",
    "def gcd(num1, num2):\n",
    "    while num1 != num2:\n",
    "        if num1 > num2:\n",
    "            num1 -= num2\n",
    "        else:\n",
    "            num2 -= num1\n",
    "    return num1\n",
    "number_1 = (int)(input(\"Please enter the first number for checking GCD: \"))\n",
    "print(f\"first number is: {number_1}\")\n",
    "number_2 = (int)(input(\"Please enter the second number for checking GCD: \"))\n",
    "print(f\"second number is: {number_2}\")\n",
    "print(f\"They GCD is {gcd(number_1, number_2)}\")\n"
   ]
  },
  {
   "cell_type": "markdown",
   "metadata": {},
   "source": [
    "# Question 3\n",
    "### Write a Python function `count_vowels` that takes a string as input and returns the count of vowels (a, e, i, o, u) in the string.\n",
    "\n",
    "### Test your function\n",
    "```python\n",
    "print(count_vowels(\"intermediate\"))  # Expected output: 5\n",
    "print(count_vowels(\"algorithm\"))  # Expected output: 3\n",
    "```"
   ]
  },
  {
   "cell_type": "code",
   "execution_count": null,
   "metadata": {},
   "outputs": [],
   "source": [
    "# Solution \n",
    "def count_vowels(word):\n",
    "    count = 0\n",
    "    for char in word.lower():\n",
    "        if char in \"aeiou\":\n",
    "            count += 1\n",
    "    return count\n",
    "text = input(\"Please enter a word: \")\n",
    "print(f\"it has {count_vowels(text)} vowels\")"
   ]
  },
  {
   "cell_type": "markdown",
   "metadata": {},
   "source": [
    "# Question 4\n",
    "### Write a Python function `merge_sorted_lists` that merges two sorted lists into a single sorted list without using built-in sort functions.\n",
    "\n",
    "### Test your function\n",
    "```python\n",
    "print(merge_sorted_lists([1, 3, 5], [2, 4, 6]))  # Expected output: [1, 2, 3, 4, 5, 6]\n",
    "print(merge_sorted_lists([-3, 0, 7], [-1, 4, 10]))  # Expected output: [-3, -1, 0, 4, 7, 10]\n",
    "```\n"
   ]
  },
  {
   "cell_type": "code",
   "execution_count": null,
   "metadata": {},
   "outputs": [],
   "source": [
    "# Solution \n",
    "def flatten(nested_list):\n",
    "    extended_list = []\n",
    "    for sublist in nested_list:\n",
    "        extended_list.extend(sublist)\n",
    "        \n",
    "    return extended_list\n",
    "\n",
    "def merge_sorted_lists(given_list):\n",
    "\n",
    "    if len(given_list) <= 1:  \n",
    "        return given_list\n",
    "    \n",
    "    middle = len(given_list)// 2  \n",
    "\n",
    "    left = merge_sorted_lists(given_list[:middle])\n",
    "    right = merge_sorted_lists(given_list[middle:])\n",
    "    sorted_list = []  \n",
    "    i = j = 0 \n",
    "\n",
    "    while i < len(left) and j < len(right):\n",
    "        if left[i] < right[j]: \n",
    "            sorted_list.append(left[i])  \n",
    "            i += 1\n",
    "        else:\n",
    "            sorted_list.append(right[j])\n",
    "            j += 1\n",
    "\n",
    "    \n",
    "    sorted_list.extend(left[i:])\n",
    "    sorted_list.extend(right[j:])\n",
    "    return sorted_list\n",
    "    \n",
    "mylist = [[1, 56, 23, -45, 7, ],[13, 74, 85, 34, 12, -3]]\n",
    "extended_list = flatten(mylist)\n",
    "print(f\"sorted array is: {merge_sorted_lists(extended_list)}\")"
   ]
  },
  {
   "cell_type": "markdown",
   "metadata": {},
   "source": [
    "# Question 5\n",
    "### Write a Python function `binary_search` that implements the binary search algorithm on a sorted list and returns the index of the element if found, or -1 if not found.\n",
    "\n",
    "### Test your function\n",
    "```python\n",
    "print(binary_search([1, 3, 5, 7, 9, 11], 7))  # Expected output: 3\n",
    "print(binary_search([2, 4, 6, 8, 10], 5))  # Expected output: -1\n",
    "```"
   ]
  },
  {
   "cell_type": "code",
   "execution_count": null,
   "metadata": {},
   "outputs": [],
   "source": [
    "# Solution \n",
    "def binary_search(given_list, key):\n",
    "    lower = 0\n",
    "    higher = len(given_list) - 1\n",
    "    while(lower <= higher):\n",
    "        middle = (lower + higher) // 2\n",
    "        if(key == given_list[middle]):\n",
    "            return middle\n",
    "        if(key < given_list[middle]):\n",
    "            higher = middle - 1\n",
    "        else:\n",
    "            lower = middle + 1\n",
    "    return -1\n",
    "mylist = [3, 6, 8, 12, 14, 17, 25, 29, 31, 36, 42, 47, 53, 55, 62]\n",
    "element = (int)(input(\"Please enter the number you want to search: \"))\n",
    "result = binary_search(mylist,element)\n",
    "if result == -1:\n",
    "    print(\"number not found.\")\n",
    "else:\n",
    "    print(f\"The number you are looking for is in index {result}.\")\n"
   ]
  }
 ],
 "metadata": {
  "language_info": {
   "name": "python"
  }
 },
 "nbformat": 4,
 "nbformat_minor": 2
}
